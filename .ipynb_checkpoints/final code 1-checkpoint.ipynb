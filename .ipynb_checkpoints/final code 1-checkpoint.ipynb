{
 "cells": [
  {
   "cell_type": "code",
   "execution_count": 1,
   "metadata": {},
   "outputs": [],
   "source": [
    "import tensorflow as tf \n",
    "import numpy as np "
   ]
  },
  {
   "cell_type": "code",
   "execution_count": 9,
   "metadata": {},
   "outputs": [
    {
     "name": "stdout",
     "output_type": "stream",
     "text": [
      "52805924.0\n",
      "17717964.0\n",
      "9235121.0\n",
      "5410699.5\n",
      "3405504.5\n",
      "2249031.5\n",
      "1542074.5\n",
      "1087720.8\n",
      "784189.8\n",
      "575394.56\n",
      "428135.75\n",
      "322354.66\n",
      "245076.53\n",
      "187938.3\n",
      "145162.5\n",
      "112879.19\n",
      "88363.3\n",
      "69548.45\n",
      "55038.07\n",
      "43762.53\n",
      "34953.383\n",
      "28032.926\n",
      "22576.602\n",
      "18245.68\n",
      "14818.845\n",
      "12095.69\n",
      "9924.619\n",
      "8188.511\n",
      "6796.8105\n",
      "5678.6787\n",
      "4775.105\n",
      "4049.3484\n",
      "3464.667\n",
      "2992.7124\n",
      "2610.9822\n",
      "2301.7742\n",
      "2050.841\n",
      "1847.3567\n",
      "1682.1125\n",
      "1547.8037\n",
      "1438.5906\n",
      "1349.6323\n",
      "1277.2153\n",
      "1218.2053\n",
      "1170.1304\n",
      "1130.9208\n",
      "1098.9299\n",
      "1072.8345\n",
      "1051.5164\n",
      "1034.1414\n"
     ]
    }
   ],
   "source": [
    "N,D,H =64,1000,100\n",
    "x= tf.placeholder(tf.float32 , shape=(N,D))\n",
    "y= tf.placeholder(tf.float32, shape=(N,D))\n",
    "w1= tf.placeholder(tf.float32, shape=(D,H))\n",
    "w2= tf.placeholder(tf.float32, shape=(H,D))\n",
    "h = tf.maximum(tf.matmul(x,w1),0)\n",
    "\n",
    "y_pred = tf.matmul(h, w2)\n",
    "diff = y_pred - y\n",
    "loss=tf.reduce_mean(tf.reduce_sum(diff**2,axis=1))\n",
    "grad_w1 ,grad_w2 = tf.gradients(loss, [w1,w2])\n",
    "\n",
    "with tf.Session() as sess:\n",
    "    values = {x:np.random.randn(N,D),\n",
    "             w1:np.random.randn(D,H),\n",
    "             w2:np.random.randn(H,D),\n",
    "             y:np.random.randn(N,D),}\n",
    "    learning_rate = 1e-5\n",
    "    for i in range(50):\n",
    "        \n",
    "        out = sess.run([loss ,grad_w1 ,grad_w2],\n",
    "                       feed_dict = values)\n",
    "        loss_val, grad_w1_val , grad_w2_val = out\n",
    "        values[w1] -= learning_rate * grad_w1_val\n",
    "        values[w2] -= learning_rate * grad_w2_val\n",
    "        print(loss_val)\n",
    "    \n",
    "    "
   ]
  },
  {
   "cell_type": "code",
   "execution_count": null,
   "metadata": {},
   "outputs": [],
   "source": []
  },
  {
   "cell_type": "code",
   "execution_count": null,
   "metadata": {},
   "outputs": [],
   "source": []
  }
 ],
 "metadata": {
  "kernelspec": {
   "display_name": "Python 3",
   "language": "python",
   "name": "python3"
  },
  "language_info": {
   "codemirror_mode": {
    "name": "ipython",
    "version": 3
   },
   "file_extension": ".py",
   "mimetype": "text/x-python",
   "name": "python",
   "nbconvert_exporter": "python",
   "pygments_lexer": "ipython3",
   "version": "3.6.6"
  }
 },
 "nbformat": 4,
 "nbformat_minor": 4
}
