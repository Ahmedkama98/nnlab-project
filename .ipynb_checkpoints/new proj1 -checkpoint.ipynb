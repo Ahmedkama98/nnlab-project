{
 "cells": [
  {
   "cell_type": "code",
   "execution_count": 1,
   "metadata": {},
   "outputs": [
    {
     "name": "stdout",
     "output_type": "stream",
     "text": [
      "50796930.0\n",
      "48575870.0\n",
      "51115256.0\n",
      "50586788.0\n",
      "49535936.0\n",
      "51217244.0\n",
      "50310036.0\n",
      "47801684.0\n",
      "52071310.0\n",
      "49721424.0\n",
      "47952776.0\n",
      "49144896.0\n",
      "49326530.0\n",
      "49317200.0\n",
      "52072616.0\n",
      "48883320.0\n",
      "51017136.0\n",
      "48043016.0\n",
      "50190524.0\n",
      "47798892.0\n",
      "51185016.0\n",
      "49270690.0\n",
      "49881290.0\n",
      "50030624.0\n",
      "50581880.0\n",
      "50262310.0\n",
      "47236096.0\n",
      "52464576.0\n",
      "47358904.0\n",
      "50782710.0\n",
      "51144984.0\n",
      "50883136.0\n",
      "48765656.0\n",
      "47288170.0\n",
      "51384360.0\n",
      "50472276.0\n",
      "48082772.0\n",
      "52075530.0\n",
      "49336200.0\n",
      "51420480.0\n",
      "48950656.0\n",
      "51269096.0\n",
      "48324080.0\n",
      "49950490.0\n",
      "49973708.0\n",
      "51209920.0\n",
      "49357640.0\n",
      "50426292.0\n",
      "50340652.0\n",
      "48748616.0\n"
     ]
    }
   ],
   "source": [
    "import tensorflow as tf \n",
    "import numpy as np \n",
    "\n",
    "N,D,H =64,1000,100\n",
    "x = tf.placeholder(tf.float32,shape=(N,D))\n",
    "w1= tf.placeholder(tf.float32,shape=(D,H))\n",
    "w2= tf.placeholder(tf.float32,shape=(H,D))\n",
    "y= tf.placeholder(tf.float32,shape=(N,D))\n",
    "\n",
    "h=tf.maximum(tf.matmul(x,w1),0)\n",
    "y_pred =tf.matmul(h,w2)\n",
    "diff=y_pred -y\n",
    "loss=tf.reduce_mean(tf.reduce_sum(diff**2, axis=1))\n",
    "\n",
    " \n",
    "\n",
    "grad_w1 ,grad_w2 =tf.gradients(loss,[w1,w2])\n",
    "for t in range(50):\n",
    "      with tf.Session() as sess:\n",
    "        values={\n",
    "        x: np.random.randn(N,D),\n",
    "        w1: np.random.randn(D,H),\n",
    "        w2: np.random.randn(H,D),\n",
    "        y: np.random.randn(N,D),}\n",
    " \n",
    "        out = sess.run([loss, grad_w1, grad_w2],\n",
    "                                 feed_dict=values)\n",
    "        loss_val, grad_w1_val, grad_w2_val = out\n",
    "   \n",
    "        learning_rate=1.0e-5\n",
    "    \n",
    "        out =sess.run([loss,grad_w1,grad_w2],\n",
    "                    feed_dict=values)\n",
    "        loss_val,grad_w1_val,grad_w2_val=out\n",
    "        values[w1]-=learning_rate*grad_w1_val\n",
    "        values[w2]-=learning_rate*grad_w2_val\n",
    "        \n",
    "        print(loss_val)\n",
    "        \n",
    "        \n",
    "        \n",
    "       \n",
    "\n"
   ]
  },
  {
   "cell_type": "code",
   "execution_count": 3,
   "metadata": {},
   "outputs": [
    {
     "name": "stdout",
     "output_type": "stream",
     "text": [
      "53972700.0\n"
     ]
    }
   ],
   "source": []
  },
  {
   "cell_type": "code",
   "execution_count": null,
   "metadata": {},
   "outputs": [],
   "source": []
  }
 ],
 "metadata": {
  "kernelspec": {
   "display_name": "Python 3",
   "language": "python",
   "name": "python3"
  },
  "language_info": {
   "codemirror_mode": {
    "name": "ipython",
    "version": 3
   },
   "file_extension": ".py",
   "mimetype": "text/x-python",
   "name": "python",
   "nbconvert_exporter": "python",
   "pygments_lexer": "ipython3",
   "version": "3.6.6"
  }
 },
 "nbformat": 4,
 "nbformat_minor": 4
}
